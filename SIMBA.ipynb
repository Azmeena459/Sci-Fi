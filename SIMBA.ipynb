{
 "cells": [
  {
   "cell_type": "code",
   "execution_count": null,
   "id": "bf795351-c44b-42be-8bde-07bbdc1b346b",
   "metadata": {},
   "outputs": [],
   "source": [
    "import os\n",
    "import time\n",
    "import subprocess\n",
    "import json\n"
   ]
  },
  {
   "cell_type": "code",
   "execution_count": null,
   "id": "cf5bbb0f-af2a-4d94-b5df-0573cff73bff",
   "metadata": {},
   "outputs": [],
   "source": [
    "!pip install wikipedia"
   ]
  },
  {
   "cell_type": "code",
   "execution_count": null,
   "id": "6e470e92-24c3-4a8e-b1e3-631f25dbe02f",
   "metadata": {},
   "outputs": [],
   "source": [
    "import wolframalpha\n",
    "import requests\n",
    "import webbrowser\n",
    "import wikipedia\n",
    "import datetime"
   ]
  },
  {
   "cell_type": "code",
   "execution_count": null,
   "id": "348b3e44-d654-4ca2-98be-97abbe939672",
   "metadata": {},
   "outputs": [],
   "source": [
    "!pip install SpeechRecognition"
   ]
  },
  {
   "cell_type": "code",
   "execution_count": null,
   "id": "881432dd-204b-4395-8edc-5c8ca474c437",
   "metadata": {},
   "outputs": [],
   "source": [
    "import speech_recognition as sr\n",
    "import pyttsx3"
   ]
  },
  {
   "cell_type": "code",
   "execution_count": null,
   "id": "e82bb1f1-d5d0-47c8-abaa-14fd759ff1f5",
   "metadata": {},
   "outputs": [],
   "source": [
    "!pip install pyaudio"
   ]
  },
  {
   "cell_type": "code",
   "execution_count": null,
   "id": "927cc211-eebb-4f67-a032-8c9ee1a42195",
   "metadata": {},
   "outputs": [],
   "source": [
    "print('LOADING YOUR PERSONAL ASSISTANT SIMBA')"
   ]
  },
  {
   "cell_type": "code",
   "execution_count": null,
   "id": "77264a3e-060e-4f8e-9f2b-3fe7a9f2651f",
   "metadata": {},
   "outputs": [],
   "source": [
    "engine = pyttsx3.init('sapi5')\n",
    "voices = engine.getProperty('voices')\n",
    "engine.setProperty(\"voice\",'voices[0].id')"
   ]
  },
  {
   "cell_type": "code",
   "execution_count": null,
   "id": "bf958e25-8ea9-4240-8eb3-1d39005460c0",
   "metadata": {},
   "outputs": [],
   "source": [
    "def speak(text):\n",
    "    engine.say(text)\n",
    "    engine.runAndWait()"
   ]
  },
  {
   "cell_type": "code",
   "execution_count": null,
   "id": "44feb3f3-be9b-474c-8155-8eba4c5d3073",
   "metadata": {},
   "outputs": [],
   "source": [
    "def wishMe():\n",
    "    hour= datetime.datetime.now().hour\n",
    "    if hour >= 0 and hour < 12:\n",
    "        speak(\"Hello, Good Morning Ms. Azmeena\")\n",
    "        print(\"Hello, Good Morning Ms. Azmeena\")\n",
    "    elif hour >=12 and hour <= 18:\n",
    "        speak(\"Hello, Good Afternoon Ms. Azmeena\")\n",
    "        print(\"Hello, Good Afternoon Ms. Azmeena\")\n",
    "    else:\n",
    "        speak(\"It's already late, better go to sleep Ms. Azmeena\")\n",
    "        print(\"It's already late, better go to sleep Ms. Azmeena\")"
   ]
  },
  {
   "cell_type": "code",
   "execution_count": null,
   "id": "aa8c7738-91fa-4d62-8cc2-c98fb6f1376b",
   "metadata": {},
   "outputs": [],
   "source": [
    "def takeCommand():\n",
    "    r = sr.Recognizer()\n",
    "    with sr.Microphone() as source:\n",
    "        print(\"I AM LISTENING\")\n",
    "        audio = r.listen(source)\n",
    "        \n",
    "        try:\n",
    "            statement = r.recognize_google(audio,language='en-in')\n",
    "            print(f\"user said:{statement}\\n\")\n",
    "\n",
    "        except Exeption as e:\n",
    "            speak(\"pardon me, please say that again\")\n",
    "            return \"None\"\n",
    "        return statement\n",
    "            "
   ]
  },
  {
   "cell_type": "code",
   "execution_count": null,
   "id": "ba23ae70-ff80-44d4-9652-923af6eee55f",
   "metadata": {},
   "outputs": [],
   "source": [
    "speak(\"LOADING YOU PERSONAL A.I ASSISTANT SIMBA\")\n",
    "wishMe()"
   ]
  },
  {
   "cell_type": "code",
   "execution_count": null,
   "id": "330bd4a7-f48e-4e9f-b479-8dfe46f3e128",
   "metadata": {},
   "outputs": [],
   "source": [
    "def takeCommand():\n",
    "    r = sr.Recognizer()\n",
    "    with sr.Microphone() as source:\n",
    "        print(\"I AM LISTENING\")\n",
    "        audio = r.listen(source)\n",
    "        try:\n",
    "            statement = r.recognize_google(audio, language='en-in')\n",
    "            print(f\"user said: {statement}\\n\")\n",
    "            return statement\n",
    "        except sr.UnknownValueError:\n",
    "            print(\"Sorry, I could not understand the audio.\")\n",
    "            return \"None\"\n",
    "        except sr.RequestError:\n",
    "            print(\"Could not request results from Google Speech Recognition service.\")\n",
    "            return \"None\"\n",
    "        except Exception as e:\n",
    "            print(f\"An error occurred: {e}\")\n",
    "            return \"None\"\n"
   ]
  },
  {
   "cell_type": "code",
   "execution_count": null,
   "id": "0dd50675-0d26-448b-9b47-4989af57e078",
   "metadata": {},
   "outputs": [],
   "source": [
    "if __name__ == '__main__':\n",
    "    while True:\n",
    "        speak(\"How can I help you?\")\n",
    "        statement = takeCommand().lower()\n",
    "        if statement == 0:\n",
    "            continue\n",
    "\n",
    "        if \"good bye\" in statement or \"ok bye\" in statement or \"stop\" in statement:\n",
    "            speak(\"Your personal AI assistant SIMBA is shutting down, Goodbye!\")\n",
    "            print(\"Your personal AI assistant SIMBA is shutting down, Goodbye!\")\n",
    "            break\n",
    "\n",
    "        if 'wikipedia' in statement:\n",
    "            speak(\"Searching Wikipedia...\")\n",
    "            statement = statement.replace(\"wikipedia\", \"\")\n",
    "            results = wikipedia.summary(statement, sentences=3)\n",
    "            speak(\"According to Wikipedia...\")\n",
    "            print(results)\n",
    "            speak(results)\n",
    "\n",
    "        elif \"open youtube\" in statement:\n",
    "            webbrowser.open_new_tab(\"https://www.youtube.com\")\n",
    "            speak(\"YouTube is open for you\")\n",
    "            time.sleep(5)\n",
    "\n",
    "        elif \"open google\" in statement:\n",
    "            webbrowser.open_new_tab(\"https://www.google.com\")\n",
    "            speak(\"Google search is open for you\")\n",
    "            time.sleep(5)\n",
    "\n",
    "        elif \"open gmail\" in statement:\n",
    "            webbrowser.open_new_tab(\"https://www.gmail.com\")\n",
    "            speak(\"Your Gmail is open for you\")\n",
    "            time.sleep(5)\n",
    "\n",
    "        elif \"weather\" in statement:\n",
    "            api_key = \"8ef61edcf1c576d65d836254e11ea420\"\n",
    "            base_url = \"https://api.openweathermap.org/data/2.5/weather?\"\n",
    "            speak(\"What's the city name?\")\n",
    "            city_name = takeCommand()\n",
    "            complete_url = base_url + \"appid=\" + api_key + \"&q=\" + city_name\n",
    "            response = requests.get(complete_url)\n",
    "            x = response.json()\n",
    "            if x[\"cod\"] != \"404\":\n",
    "                y = x[\"main\"]\n",
    "                current_temperature = y[\"temp\"]\n",
    "                current_humidity = y[\"humidity\"]\n",
    "                z = x[\"weather\"]\n",
    "                weather_description = z[0][\"description\"]\n",
    "                speak(f\"The temperature in kelvin units is {current_temperature}. \"\n",
    "                      f\"Humidity in percentage is {current_humidity}. \"\n",
    "                      f\"Weather description: {weather_description}.\")\n",
    "                print(f\"The temperature in kelvin units is {current_temperature}. \"\n",
    "                      f\"Humidity in percentage is {current_humidity}. \"\n",
    "                      f\"Weather description: {weather_description}.\")\n",
    "            else:\n",
    "                speak(\"City not found\")\n",
    "                print(\"City not found\")\n",
    "\n",
    "        elif \"time\" in statement:\n",
    "            strTime = datetime.datetime.now().strftime(\"%H:%M:%S\")\n",
    "            speak(f\"The time is {strTime}\")\n",
    "\n",
    "        elif \"who are you\" in statement or \"what can you do\" in statement:\n",
    "            speak(\"I am SIMBA version 1.0, your personal assistant. I can perform tasks like \"\n",
    "                  \"opening YouTube, Google Chrome, Gmail, and Stack Overflow, predicting time, \"\n",
    "                  \"taking photos, searching Wikipedia, predicting weather in different cities, \"\n",
    "                  \"getting top news headlines, and answering computational or geographical questions.\")\n",
    "\n",
    "        elif \"who made you\" in statement or \"who created you\" in statement:\n",
    "            speak(\"I was built by Azmeena\")\n",
    "            print(\"I was built by Azmeena\")\n",
    "\n",
    "        elif \"open stack overflow\" in statement:\n",
    "            webbrowser.open_new_tab(\"https://stackoverflow.com/login\")\n",
    "            time.sleep(5)\n",
    "\n",
    "        elif \"news\" in statement:\n",
    "            webbrowser.open_new_tab(\"https://timesofindia.indiatimes.com/home/headlines\")\n",
    "            speak(\"Here are some headlines for you from Times of India - happy reading!\")\n",
    "            time.sleep(7)\n",
    "\n",
    "        elif \"search\" in statement:\n",
    "            statement = statement.replace(\"search\", \"\")\n",
    "            webbrowser.open_new_tab(statement)\n",
    "            time.sleep(5)\n",
    "\n",
    "        elif \"ask\" in statement:\n",
    "            speak(\"I can answer computational and geographical questions. What do you want to ask?\")\n",
    "            question = takeCommand()\n",
    "            app_id = \"R2K75H-7ELALHR35X\"\n",
    "            client = wolframalpha.Client(app_id)\n",
    "            res = client.query(question)\n",
    "            answer = next(res.results).text\n",
    "            speak(answer)\n",
    "            print(answer)\n",
    "\n",
    "        elif \"log off\" in statement or \"sign out\" in statement or \"shut down\" in statement:\n",
    "            speak(\"OK, Your PC will shut down in 10 seconds. Make sure you save and exit all applications.\")\n",
    "            subprocess.call(['shutdown', \"/s\"])\n",
    "            time.sleep(16)\n",
    "\n",
    "            \n",
    "        "
   ]
  },
  {
   "cell_type": "code",
   "execution_count": null,
   "id": "a526afe0-506e-497f-9d83-6385d6da5e13",
   "metadata": {},
   "outputs": [],
   "source": []
  }
 ],
 "metadata": {
  "kernelspec": {
   "display_name": "Python 3 (ipykernel)",
   "language": "python",
   "name": "python3"
  },
  "language_info": {
   "codemirror_mode": {
    "name": "ipython",
    "version": 3
   },
   "file_extension": ".py",
   "mimetype": "text/x-python",
   "name": "python",
   "nbconvert_exporter": "python",
   "pygments_lexer": "ipython3",
   "version": "3.12.7"
  }
 },
 "nbformat": 4,
 "nbformat_minor": 5
}
